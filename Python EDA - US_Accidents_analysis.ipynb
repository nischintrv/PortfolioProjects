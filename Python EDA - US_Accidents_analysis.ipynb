{
  "cells": [
    {
      "cell_type": "markdown",
      "metadata": {
        "id": "view-in-github",
        "colab_type": "text"
      },
      "source": [
        "<a href=\"https://colab.research.google.com/github/nischintrv/PortfolioProjects/blob/main/Python%20EDA%20-%20US_Accidents_analysis.ipynb\" target=\"_parent\"><img src=\"https://colab.research.google.com/assets/colab-badge.svg\" alt=\"Open In Colab\"/></a>"
      ]
    },
    {
      "cell_type": "markdown",
      "metadata": {
        "id": "raddkI30bV1_"
      },
      "source": [
        "# us-accidents-analysis\n",
        "\n",
        "Use the \"Run\" button to execute the code."
      ]
    },
    {
      "cell_type": "code",
      "execution_count": null,
      "metadata": {
        "id": "ywYfUPZLbV2F"
      },
      "outputs": [],
      "source": [
        "print('Hello World')"
      ]
    },
    {
      "cell_type": "markdown",
      "source": [
        "# **US Accidents Exploratory Data Analysis**\n",
        "\n",
        "to do - talk about EDA\n",
        "\n",
        "to do - talk about the dataset (source, its contents, how useful it will be)\n",
        "\n",
        "\n",
        "\n",
        "*   kaggle\n",
        "*   info about accidents\n",
        "-can be used to prevent accidents\n",
        "\n",
        "\n"
      ],
      "metadata": {
        "id": "kIyvpRdbcIJV"
      }
    },
    {
      "cell_type": "markdown",
      "source": [
        "## Download the data"
      ],
      "metadata": {
        "id": "gtOdchYDhUm0"
      }
    },
    {
      "cell_type": "code",
      "source": [
        "pip install opendatasets --upgrade --quiet"
      ],
      "metadata": {
        "id": "ZC2JEHUIcOVW"
      },
      "execution_count": 1,
      "outputs": []
    },
    {
      "cell_type": "code",
      "source": [
        "import opendatasets as od\n",
        "\n",
        "download_url = 'https://www.kaggle.com/datasets/sobhanmoosavi/us-accidents'\n",
        "\n",
        "od.download (download_url)"
      ],
      "metadata": {
        "colab": {
          "base_uri": "https://localhost:8080/"
        },
        "id": "2YPQoL7Ye6Yx",
        "outputId": "77bc56aa-caef-45d0-f1b5-92b6b475a0e9"
      },
      "execution_count": 2,
      "outputs": [
        {
          "output_type": "stream",
          "name": "stdout",
          "text": [
            "Please provide your Kaggle credentials to download this dataset. Learn more: http://bit.ly/kaggle-creds\n",
            "Your Kaggle username: nischintrv\n",
            "Your Kaggle Key: ··········\n",
            "Dataset URL: https://www.kaggle.com/datasets/sobhanmoosavi/us-accidents\n",
            "Downloading us-accidents.zip to ./us-accidents\n"
          ]
        },
        {
          "output_type": "stream",
          "name": "stderr",
          "text": [
            "100%|██████████| 653M/653M [00:03<00:00, 200MB/s]\n"
          ]
        },
        {
          "output_type": "stream",
          "name": "stdout",
          "text": [
            "\n"
          ]
        }
      ]
    },
    {
      "cell_type": "code",
      "source": [
        "data_filename = './us-accidents/US_Accidents_March23.csv'"
      ],
      "metadata": {
        "id": "F65ZhQCNgmks"
      },
      "execution_count": 3,
      "outputs": []
    },
    {
      "cell_type": "markdown",
      "source": [
        "## Data Preperation and Cleaning\n",
        "\n",
        "1. Load the file using pandas\n",
        "2. Look at some info about the data and column\n",
        "3. Fix any missing or incorrect values\n",
        "\n"
      ],
      "metadata": {
        "id": "k6f2LfZLcn-b"
      }
    },
    {
      "cell_type": "code",
      "source": [
        "import pandas as pd\n",
        "\n",
        "df = pd.read_csv(data_filename)\n"
      ],
      "metadata": {
        "id": "JaFrzU4Ecs-x"
      },
      "execution_count": 4,
      "outputs": []
    },
    {
      "cell_type": "code",
      "source": [
        "df.info()"
      ],
      "metadata": {
        "colab": {
          "base_uri": "https://localhost:8080/"
        },
        "id": "hxyt7e_Dcsqv",
        "outputId": "ba7538df-ced9-43f2-eb27-d7e51fc589f0"
      },
      "execution_count": 7,
      "outputs": [
        {
          "output_type": "stream",
          "name": "stdout",
          "text": [
            "<class 'pandas.core.frame.DataFrame'>\n",
            "RangeIndex: 7728394 entries, 0 to 7728393\n",
            "Data columns (total 46 columns):\n",
            " #   Column                 Dtype  \n",
            "---  ------                 -----  \n",
            " 0   ID                     object \n",
            " 1   Source                 object \n",
            " 2   Severity               int64  \n",
            " 3   Start_Time             object \n",
            " 4   End_Time               object \n",
            " 5   Start_Lat              float64\n",
            " 6   Start_Lng              float64\n",
            " 7   End_Lat                float64\n",
            " 8   End_Lng                float64\n",
            " 9   Distance(mi)           float64\n",
            " 10  Description            object \n",
            " 11  Street                 object \n",
            " 12  City                   object \n",
            " 13  County                 object \n",
            " 14  State                  object \n",
            " 15  Zipcode                object \n",
            " 16  Country                object \n",
            " 17  Timezone               object \n",
            " 18  Airport_Code           object \n",
            " 19  Weather_Timestamp      object \n",
            " 20  Temperature(F)         float64\n",
            " 21  Wind_Chill(F)          float64\n",
            " 22  Humidity(%)            float64\n",
            " 23  Pressure(in)           float64\n",
            " 24  Visibility(mi)         float64\n",
            " 25  Wind_Direction         object \n",
            " 26  Wind_Speed(mph)        float64\n",
            " 27  Precipitation(in)      float64\n",
            " 28  Weather_Condition      object \n",
            " 29  Amenity                bool   \n",
            " 30  Bump                   bool   \n",
            " 31  Crossing               bool   \n",
            " 32  Give_Way               bool   \n",
            " 33  Junction               bool   \n",
            " 34  No_Exit                bool   \n",
            " 35  Railway                bool   \n",
            " 36  Roundabout             bool   \n",
            " 37  Station                bool   \n",
            " 38  Stop                   bool   \n",
            " 39  Traffic_Calming        bool   \n",
            " 40  Traffic_Signal         bool   \n",
            " 41  Turning_Loop           bool   \n",
            " 42  Sunrise_Sunset         object \n",
            " 43  Civil_Twilight         object \n",
            " 44  Nautical_Twilight      object \n",
            " 45  Astronomical_Twilight  object \n",
            "dtypes: bool(13), float64(12), int64(1), object(20)\n",
            "memory usage: 2.0+ GB\n"
          ]
        }
      ]
    },
    {
      "cell_type": "code",
      "source": [
        "df.columns"
      ],
      "metadata": {
        "colab": {
          "base_uri": "https://localhost:8080/"
        },
        "id": "08tfldU78KXH",
        "outputId": "f6ca626a-a7ba-4c44-d7f2-e35c1af43700"
      },
      "execution_count": 8,
      "outputs": [
        {
          "output_type": "execute_result",
          "data": {
            "text/plain": [
              "Index(['ID', 'Source', 'Severity', 'Start_Time', 'End_Time', 'Start_Lat',\n",
              "       'Start_Lng', 'End_Lat', 'End_Lng', 'Distance(mi)', 'Description',\n",
              "       'Street', 'City', 'County', 'State', 'Zipcode', 'Country', 'Timezone',\n",
              "       'Airport_Code', 'Weather_Timestamp', 'Temperature(F)', 'Wind_Chill(F)',\n",
              "       'Humidity(%)', 'Pressure(in)', 'Visibility(mi)', 'Wind_Direction',\n",
              "       'Wind_Speed(mph)', 'Precipitation(in)', 'Weather_Condition', 'Amenity',\n",
              "       'Bump', 'Crossing', 'Give_Way', 'Junction', 'No_Exit', 'Railway',\n",
              "       'Roundabout', 'Station', 'Stop', 'Traffic_Calming', 'Traffic_Signal',\n",
              "       'Turning_Loop', 'Sunrise_Sunset', 'Civil_Twilight', 'Nautical_Twilight',\n",
              "       'Astronomical_Twilight'],\n",
              "      dtype='object')"
            ]
          },
          "metadata": {},
          "execution_count": 8
        }
      ]
    },
    {
      "cell_type": "code",
      "source": [
        "len(df)\n",
        "len(df.columns)"
      ],
      "metadata": {
        "colab": {
          "base_uri": "https://localhost:8080/"
        },
        "id": "45bx_B3B8KA-",
        "outputId": "d27bb13d-db20-49f9-8ef0-dc4c431eebe2"
      },
      "execution_count": 11,
      "outputs": [
        {
          "output_type": "execute_result",
          "data": {
            "text/plain": [
              "46"
            ]
          },
          "metadata": {},
          "execution_count": 11
        }
      ]
    },
    {
      "cell_type": "markdown",
      "source": [
        "## Exploratory Analysis and Vizualizations"
      ],
      "metadata": {
        "id": "gF_0gj2ecuMq"
      }
    },
    {
      "cell_type": "code",
      "source": [],
      "metadata": {
        "id": "GxeU0lBVc3NJ"
      },
      "execution_count": null,
      "outputs": []
    },
    {
      "cell_type": "code",
      "source": [],
      "metadata": {
        "id": "qszoosHnc3tb"
      },
      "execution_count": null,
      "outputs": []
    },
    {
      "cell_type": "code",
      "source": [],
      "metadata": {
        "id": "YxKas3wXc3a_"
      },
      "execution_count": null,
      "outputs": []
    },
    {
      "cell_type": "markdown",
      "source": [
        "## Ask and Answer questions"
      ],
      "metadata": {
        "id": "rhR1APdqc50c"
      }
    },
    {
      "cell_type": "code",
      "source": [],
      "metadata": {
        "id": "k7kn516Wc-eq"
      },
      "execution_count": null,
      "outputs": []
    },
    {
      "cell_type": "code",
      "source": [],
      "metadata": {
        "id": "0NQ2-m4Nc-Vw"
      },
      "execution_count": null,
      "outputs": []
    },
    {
      "cell_type": "code",
      "source": [],
      "metadata": {
        "id": "Bf7Z5U_bc99J"
      },
      "execution_count": null,
      "outputs": []
    },
    {
      "cell_type": "markdown",
      "source": [
        "## Summary and Conclusion"
      ],
      "metadata": {
        "id": "at0_k4HNc_VD"
      }
    }
  ],
  "metadata": {
    "kernelspec": {
      "display_name": "Python 3",
      "name": "python3"
    },
    "language_info": {
      "codemirror_mode": {
        "name": "ipython",
        "version": 3
      },
      "file_extension": ".py",
      "mimetype": "text/x-python",
      "name": "python",
      "nbconvert_exporter": "python",
      "pygments_lexer": "ipython3",
      "version": "3.7.6"
    },
    "colab": {
      "provenance": [],
      "gpuType": "V28",
      "include_colab_link": true
    },
    "accelerator": "TPU"
  },
  "nbformat": 4,
  "nbformat_minor": 0
}